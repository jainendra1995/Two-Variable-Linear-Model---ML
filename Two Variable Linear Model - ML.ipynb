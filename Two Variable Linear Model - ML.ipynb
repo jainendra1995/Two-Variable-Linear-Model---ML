{
 "cells": [
  {
   "cell_type": "code",
   "execution_count": 1,
   "metadata": {},
   "outputs": [],
   "source": [
    "import numpy as np\n",
    "import matplotlib.pyplot as plt\n",
    "from mpl_toolkits.mplot3d import Axes3D"
   ]
  },
  {
   "cell_type": "code",
   "execution_count": 2,
   "metadata": {},
   "outputs": [],
   "source": [
    "observations = 1000\n",
    "\n",
    "xs = np.random.uniform(-10,10,size = (observations,1))\n",
    "zs = np.random.uniform(-10,10,size = (observations,1))\n",
    "\n",
    "inputs = np.column_stack((xs,zs))"
   ]
  },
  {
   "cell_type": "markdown",
   "metadata": {},
   "source": [
    "Targets = 2*x - 3*z + 5 + noise"
   ]
  },
  {
   "cell_type": "code",
   "execution_count": 3,
   "metadata": {},
   "outputs": [
    {
     "name": "stdout",
     "output_type": "stream",
     "text": [
      "(1000, 1)\n"
     ]
    }
   ],
   "source": [
    "noise = np.random.uniform(-1,1,size = (observations,1))\n",
    "\n",
    "targets = 2*xs - 3*zs +5 + noise\n",
    "\n",
    "print(targets.shape)"
   ]
  },
  {
   "cell_type": "code",
   "execution_count": 4,
   "metadata": {},
   "outputs": [],
   "source": [
    "init = 0.1\n",
    "\n",
    "weights = np.random.uniform(-init,init,size=(2,1))\n",
    "\n",
    "biases = np.random.uniform(-init,init,size=1)\n"
   ]
  },
  {
   "cell_type": "code",
   "execution_count": 16,
   "metadata": {},
   "outputs": [],
   "source": [
    "learning_rate = 0.025"
   ]
  },
  {
   "cell_type": "code",
   "execution_count": 21,
   "metadata": {},
   "outputs": [
    {
     "name": "stdout",
     "output_type": "stream",
     "text": [
      "0.16207356108314205\n",
      "0.16207356108309914\n",
      "0.16207356108305832\n",
      "0.16207356108301946\n",
      "0.16207356108298257\n",
      "0.1620735610829475\n",
      "0.16207356108291412\n",
      "0.16207356108288234\n",
      "0.16207356108285229\n",
      "0.1620735610828236\n",
      "0.16207356108279633\n",
      "0.1620735610827704\n",
      "0.16207356108274576\n",
      "0.16207356108272233\n",
      "0.16207356108270005\n",
      "0.16207356108267884\n",
      "0.16207356108265875\n",
      "0.16207356108263962\n",
      "0.1620735610826214\n",
      "0.1620735610826041\n",
      "0.1620735610825877\n",
      "0.16207356108257207\n",
      "0.16207356108255716\n",
      "0.16207356108254303\n",
      "0.16207356108252954\n",
      "0.16207356108251678\n",
      "0.16207356108250465\n",
      "0.16207356108249316\n",
      "0.1620735610824821\n",
      "0.16207356108247165\n",
      "0.16207356108246165\n",
      "0.16207356108245227\n",
      "0.1620735610824433\n",
      "0.16207356108243479\n",
      "0.16207356108242668\n",
      "0.16207356108241902\n",
      "0.1620735610824117\n",
      "0.16207356108240467\n",
      "0.1620735610823981\n",
      "0.16207356108239176\n",
      "0.16207356108238577\n",
      "0.16207356108238005\n",
      "0.16207356108237467\n",
      "0.16207356108236953\n",
      "0.1620735610823646\n",
      "0.16207356108235996\n",
      "0.16207356108235554\n",
      "0.16207356108235135\n",
      "0.16207356108234727\n",
      "0.16207356108234353\n",
      "0.16207356108233986\n",
      "0.16207356108233648\n",
      "0.16207356108233323\n",
      "0.1620735610823301\n",
      "0.16207356108232715\n",
      "0.16207356108232435\n",
      "0.16207356108232168\n",
      "0.16207356108231918\n",
      "0.16207356108231663\n",
      "0.16207356108231444\n",
      "0.16207356108231225\n",
      "0.16207356108231016\n",
      "0.1620735610823081\n",
      "0.1620735610823063\n",
      "0.16207356108230453\n",
      "0.16207356108230286\n",
      "0.1620735610823012\n",
      "0.1620735610822997\n",
      "0.16207356108229823\n",
      "0.16207356108229687\n",
      "0.16207356108229556\n",
      "0.1620735610822943\n",
      "0.16207356108229318\n",
      "0.16207356108229198\n",
      "0.16207356108229093\n",
      "0.1620735610822899\n",
      "0.16207356108228893\n",
      "0.16207356108228793\n",
      "0.1620735610822871\n",
      "0.16207356108228627\n",
      "0.1620735610822855\n",
      "0.1620735610822847\n",
      "0.162073561082284\n",
      "0.1620735610822833\n",
      "0.1620735610822826\n",
      "0.16207356108228202\n",
      "0.1620735610822815\n",
      "0.16207356108228085\n",
      "0.16207356108228044\n",
      "0.16207356108227988\n",
      "0.16207356108227938\n",
      "0.16207356108227888\n",
      "0.16207356108227855\n",
      "0.1620735610822781\n",
      "0.16207356108227766\n",
      "0.1620735610822773\n",
      "0.1620735610822769\n",
      "0.16207356108227663\n",
      "0.16207356108227627\n",
      "0.162073561082276\n"
     ]
    }
   ],
   "source": [
    "for i in range(100):\n",
    "    outputs = np.dot(inputs,weights) + biases\n",
    "    deltas = outputs - targets \n",
    "    loss = np.sum(deltas**2)/2/observations\n",
    "    print (loss)\n",
    "    deltas_scaled = deltas/observations\n",
    "    weights = weights - learning_rate * np.dot(inputs.T,deltas_scaled)\n",
    "    biases = biases - learning_rate * np.sum(deltas_scaled)"
   ]
  },
  {
   "cell_type": "code",
   "execution_count": 22,
   "metadata": {},
   "outputs": [
    {
     "name": "stdout",
     "output_type": "stream",
     "text": [
      "[[ 2.00345513]\n",
      " [-3.00135931]] [4.96490591]\n"
     ]
    }
   ],
   "source": [
    "print (weights,biases)"
   ]
  },
  {
   "cell_type": "code",
   "execution_count": 23,
   "metadata": {},
   "outputs": [
    {
     "data": {
      "text/plain": [
       "[<matplotlib.lines.Line2D at 0x7fdc7003c070>]"
      ]
     },
     "execution_count": 23,
     "metadata": {},
     "output_type": "execute_result"
    },
    {
     "data": {
      "image/png": "[encoded data removed]",
      "text/plain": [
       "<Figure size 432x288 with 1 Axes>"
      ]
     },
     "metadata": {
      "needs_background": "light"
     },
     "output_type": "display_data"
    }
   ],
   "source": [
    "plt.plot(targets,outputs)"
   ]
  },
  {
   "cell_type": "code",
   "execution_count": null,
   "metadata": {},
   "outputs": [],
   "source": []
  }
 ],
 "metadata": {
  "kernelspec": {
   "display_name": "Python 3",
   "language": "python",
   "name": "python3"
  },
  "language_info": {
   "codemirror_mode": {
    "name": "ipython",
    "version": 3
   },
   "file_extension": ".py",
   "mimetype": "text/x-python",
   "name": "python",
   "nbconvert_exporter": "python",
   "pygments_lexer": "ipython3",
   "version": "3.8.5"
  }
 },
 "nbformat": 4,
 "nbformat_minor": 4
}
